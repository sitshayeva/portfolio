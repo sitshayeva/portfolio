{
 "cells": [
  {
   "cell_type": "code",
   "execution_count": null,
   "metadata": {},
   "outputs": [
    {
     "name": "stdout",
     "output_type": "stream",
     "text": [
      "Launching PyGWalker...\n"
     ]
    },
    {
     "data": {
      "application/vnd.jupyter.widget-view+json": {
       "model_id": "0a94334096f444cc860c8e8faa054c41",
       "version_major": 2,
       "version_minor": 0
      },
      "text/plain": [
       "Box(children=(HTML(value='\\n<div id=\"ifr-pyg-00062c3be5fdee43udkJqwDNRrWtHsUV\" style=\"height: auto\">\\n    <hea…"
      ]
     },
     "metadata": {},
     "output_type": "display_data"
    },
    {
     "data": {
      "text/html": [
       "<script>\n",
       "    window.addEventListener(\"message\", function(event) {\n",
       "        const backgroundMap = {\n",
       "            \"dark\": \"hsl(240 10% 3.9%)\",\n",
       "            \"light\": \"hsl(0 0 100%)\",\n",
       "        };\n",
       "        const colorMap = {\n",
       "            \"dark\": \"hsl(0 0% 98%)\",\n",
       "            \"light\": \"hsl(240 10% 3.9%)\",\n",
       "        };\n",
       "        if (event.data.action === \"changeAppearance\" && event.data.gid === \"00062c3be5fdee43udkJqwDNRrWtHsUV\") {\n",
       "            var iframe = document.getElementById(\"gwalker-00062c3be5fdee43udkJqwDNRrWtHsUV\");\n",
       "            iframe.style.background  = backgroundMap[event.data.appearance];\n",
       "            iframe.style.color = colorMap[event.data.appearance];\n",
       "        }\n",
       "    });\n",
       "</script>"
      ],
      "text/plain": [
       "<IPython.core.display.HTML object>"
      ]
     },
     "metadata": {},
     "output_type": "display_data"
    },
    {
     "data": {
      "text/html": [],
      "text/plain": [
       "<IPython.core.display.HTML object>"
      ]
     },
     "metadata": {},
     "output_type": "display_data"
    },
    {
     "name": "stdout",
     "output_type": "stream",
     "text": [
      "\n",
      "Data Cleaning Completed.\n",
      "Cleaned data saved to: cleaned_owid_co2_data.csv\n",
      "\n",
      "Summary Statistics:\n",
      "              year    population           gdp           co2  co2_per_capita  \\\n",
      "count  9746.000000  9.711000e+03  7.672000e+03   9746.000000     9711.000000   \n",
      "mean   1998.294685  6.947513e+07  4.292114e+11    307.645348        5.213641   \n",
      "std      14.812312  2.815536e+08  1.495612e+12   1477.570732        8.083260   \n",
      "min    1965.000000  1.776000e+03  1.642060e+08      0.000000        0.012000   \n",
      "25%    1987.000000  1.499924e+06  1.787951e+10      1.487750        0.656000   \n",
      "50%    1999.000000  7.569397e+06  6.466988e+10     12.322500        2.713000   \n",
      "75%    2011.000000  2.547886e+07  2.573387e+11     76.404250        7.467000   \n",
      "max    2023.000000  3.253459e+09  2.696602e+13  17581.070000      364.688000   \n",
      "\n",
      "       primary_energy_consumption  co2_per_unit_energy  \n",
      "count                 9746.000000          9701.000000  \n",
      "mean                  1333.895184             0.230148  \n",
      "std                   6169.536603             0.195697  \n",
      "min                      0.000000             0.000000  \n",
      "25%                      7.122250             0.172000  \n",
      "50%                     61.446500             0.214000  \n",
      "75%                    375.457500             0.255000  \n",
      "max                  76803.555000            10.686000  \n",
      "\n",
      "Suggested Questions for Analysis:\n",
      "1. How have global CO2 emissions changed over time?\n",
      "2. Which countries have the highest CO2 emissions per capita?\n",
      "3. Is there a relationship between energy consumption and total CO2 emissions?\n",
      "4. How has the carbon intensity of electricity changed over the years?\n",
      "5. Which countries or regions have improved their carbon efficiency the most?\n"
     ]
    }
   ],
   "source": [
    "# Import required libraries\n",
    "import pandas as pd\n",
    "import pygwalker as pyg\n",
    "\n",
    "# Step 1: Load the Dataset\n",
    "# Load the CO2 emissions data\n",
    "data_path = 'owid-co2-data.csv'\n",
    "codebook_path = 'owid-co2-codebook.csv'\n",
    "\n",
    "co2_data = pd.read_csv(data_path)\n",
    "codebook = pd.read_csv(codebook_path)\n",
    "\n",
    "# Step 2: Data Cleaning and Preprocessing\n",
    "# Remove rows with missing values in critical columns (co2, primary_energy_consumption)\n",
    "co2_data_cleaned = co2_data.dropna(subset=['co2', 'primary_energy_consumption'])\n",
    "\n",
    "# Exclude aggregate regions like 'World', 'Asia', etc.\n",
    "excluded_regions = ['World', 'Africa', 'Asia', 'Europe', 'North America', 'South America', 'European Union']\n",
    "co2_data_cleaned = co2_data_cleaned[~co2_data_cleaned['country'].isin(excluded_regions)]\n",
    "\n",
    "# Select relevant columns for analysis\n",
    "columns_to_keep = [\n",
    "    'country', 'year', 'population', 'gdp', 'co2', 'co2_per_capita',\n",
    "    'primary_energy_consumption', 'co2_per_unit_energy'\n",
    "]\n",
    "co2_data_cleaned = co2_data_cleaned[columns_to_keep]\n",
    "\n",
    "# Ensure year is treated as an integer\n",
    "co2_data_cleaned['year'] = co2_data_cleaned['year'].astype(int)\n",
    "\n",
    "# Step 3: Exploratory Data Analysis with PyGWalker\n",
    "# Launch PyGWalker for interactive analysis\n",
    "print(\"Launching PyGWalker...\")\n",
    "pyg.walk(co2_data_cleaned)\n",
    "\n",
    "# Step 4: Save the Cleaned Dataset\n",
    "# Save the cleaned data for reproducibility\n",
    "cleaned_data_path = 'cleaned_owid_co2_data.csv'\n",
    "co2_data_cleaned.to_csv(cleaned_data_path, index=False)\n",
    "\n",
    "# Step 5: Generate Summary Reports\n",
    "# Create summary statistics for insights\n",
    "summary = co2_data_cleaned.describe()\n",
    "\n",
    "# Display key findings\n",
    "print(\"\\nData Cleaning Completed.\")\n",
    "print(f\"Cleaned data saved to: {cleaned_data_path}\")\n",
    "print(\"\\nSummary Statistics:\")\n",
    "print(summary)\n",
    "\n",
    "# Step 7: Optional - Define Key Questions for Analysis\n",
    "print(\"\\nSuggested Questions for Analysis:\")\n",
    "print(\"1. How have global CO2 emissions changed over time?\")\n",
    "print(\"2. Which countries have the highest CO2 emissions per capita?\")\n",
    "print(\"3. Is there a relationship between energy consumption and total CO2 emissions?\")\n",
    "print(\"4. How has the carbon intensity of electricity changed over the years?\")\n",
    "print(\"5. Which countries or regions have improved their carbon efficiency the most?\")\n"
   ]
  }
 ],
 "metadata": {
  "kernelspec": {
   "display_name": "base",
   "language": "python",
   "name": "python3"
  },
  "language_info": {
   "codemirror_mode": {
    "name": "ipython",
    "version": 3
   },
   "file_extension": ".py",
   "mimetype": "text/x-python",
   "name": "python",
   "nbconvert_exporter": "python",
   "pygments_lexer": "ipython3",
   "version": "3.9.12"
  }
 },
 "nbformat": 4,
 "nbformat_minor": 2
}
